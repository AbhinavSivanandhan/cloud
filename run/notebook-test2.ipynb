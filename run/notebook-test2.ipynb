{
 "cells": [
  {
   "cell_type": "markdown",
   "id": "1",
   "metadata": {},
   "source": [
    "# Run Models Notebook\n",
    "\n",
    "This notebook demonstrates executing code and uploading results to GitHub from Google Cloud Run."
   ]
  },
  {
   "cell_type": "code",
   "execution_count": null,
   "id": "2",
   "metadata": {},
   "outputs": [],
   "source": [
    "import os\n",
    "import requests\n",
    "import base64\n",
    "import json\n",
    "from datetime import datetime\n",
    "from google.cloud import secretmanager"
   ]
  },
  {
   "cell_type": "code",
   "execution_count": null,
   "id": "3",
   "metadata": {},
   "outputs": [],
   "source": [
    "# Get the GitHub token from Secret Manager\n",
    "def get_github_token():\n",
    "    try:\n",
    "        client = secretmanager.SecretManagerServiceClient()\n",
    "        name = f\"projects/{os.environ.get('GOOGLE_CLOUD_PROJECT')}/secrets/github-token/versions/latest\"\n",
    "        response = client.access_secret_version(request={\"name\": name})\n",
    "        return response.payload.data.decode(\"UTF-8\")\n",
    "    except Exception as e:\n",
    "        print(f\"Error getting GitHub token: {e}\")\n",
    "        return None\n",
    "GITHUB_TOKEN = get_github_token()\n",
    "print(\"Fetching GitHub token using project:\", os.environ.get('GOOGLE_CLOUD_PROJECT'))\n",
    "if not GITHUB_TOKEN:\n",
    "    print(\"GITHUB_TOKEN not retrieved or is empty.\")\n",
    "else:\n",
    "    print(f\"GITHUB_TOKEN retrieved: {GITHUB_TOKEN[:5]}... (length={len(GITHUB_TOKEN)})\")"
   ]
  },
  {
   "cell_type": "code",
   "execution_count": null,
   "id": "4",
   "metadata": {},
   "outputs": [],
   "source": [
    "def upload_reports_to_github(repo, token, branch='main', commit_message='Report from notebook execution'):\n",
    "    if not token:\n",
    "        print(\"No GitHub token available\")\n",
    "        return\n",
    "\n",
    "    # Create a simple report file\n",
    "    report_content = f\"\"\"\n",
    "# Execution Report\n",
    "\n",
    "Generated: {datetime.now().isoformat()}\n",
    "Environment: Google Cloud Run\n",
    "Project: {os.environ.get('GOOGLE_CLOUD_PROJECT', 'unknown')}\n",
    "Status: Success\n",
    "\"\"\"\n",
    "\n",
    "    headers = {\n",
    "        'Authorization': f'token {token}',\n",
    "        'Accept': 'application/vnd.github.v3+json'\n",
    "    }\n",
    "\n",
    "    file_path = f\"reports/execution-{datetime.now().strftime('%Y%m%d-%H%M%S')}.md\"\n",
    "    content_encoded = base64.b64encode(report_content.encode('utf-8')).decode('utf-8')\n",
    "\n",
    "    data = {\n",
    "        'message': commit_message,\n",
    "        'content': content_encoded,\n",
    "        'branch': branch\n",
    "    }\n",
    "\n",
    "    url = f'https://api.github.com/repos/{repo}/contents/{file_path}'\n",
    "\n",
    "    try:\n",
    "        response = requests.put(url, headers=headers, json=data)\n",
    "\n",
    "        if response.status_code == 201:\n",
    "            result = response.json()\n",
    "            print(f\"Successfully uploaded report to GitHub!\")\n",
    "            print(f\"File: {file_path}\")\n",
    "            return result\n",
    "        else:\n",
    "            print(f\"Failed to upload. Status: {response.status_code}\")\n",
    "            return None\n",
    "\n",
    "    except Exception as e:\n",
    "        print(f\"Error uploading to GitHub: {e}\")\n",
    "        return None"
   ]
  },
  {
   "cell_type": "code",
   "execution_count": null,
   "id": "0c45528c",
   "metadata": {},
   "outputs": [],
   "source": [
    "import matplotlib.pyplot as plt\n",
    "\n",
    "plt.figure(figsize=(6, 4))\n",
    "plt.plot([1, 2, 3], [1, 4, 9])\n",
    "plt.title(\"Test Plot\")\n",
    "plt.savefig(\"output/test-plot.png\")\n",
    "print(\"Saved PNG: test-plot.png\")\n"
   ]
  },
  {
   "cell_type": "code",
   "execution_count": null,
   "id": "ddc187fc",
   "metadata": {},
   "outputs": [],
   "source": [
    "from fpdf import FPDF\n",
    "\n",
    "pdf = FPDF()\n",
    "pdf.add_page()\n",
    "pdf.set_font(\"Arial\", size=12)\n",
    "pdf.cell(200, 10, txt=\"Hello, this is a test PDF report.\", ln=True)\n",
    "pdf.output(\"output/test-report.pdf\")\n",
    "print(\"Saved PDF: test-report.pdf\")\n"
   ]
  },
  {
   "cell_type": "code",
   "execution_count": null,
   "id": "fc8bf752",
   "metadata": {},
   "outputs": [],
   "source": [
    "html_content = \"<h1>Sample HTML</h1><p>This was generated from a notebook cell.</p>\"\n",
    "with open(\"output/test-page.html\", \"w\") as f:\n",
    "    f.write(html_content)\n",
    "print(\"Saved HTML: test-page.html\")\n"
   ]
  },
  {
   "cell_type": "code",
   "execution_count": null,
   "id": "8668c58d",
   "metadata": {},
   "outputs": [],
   "source": [
    "import pandas as pd\n",
    "\n",
    "df = pd.DataFrame({\n",
    "    \"A\": [1, 2, 3],\n",
    "    \"B\": [\"x\", \"y\", \"z\"]\n",
    "})\n",
    "df.to_csv(\"output/test-data.csv\", index=False)\n",
    "print(\"Saved CSV: test-data.csv\")\n"
   ]
  },
  {
   "cell_type": "code",
   "execution_count": null,
   "id": "5",
   "metadata": {},
   "outputs": [],
   "source": [
    "print(\"Starting notebook execution...\")\n"
   ]
  },
  {
   "cell_type": "code",
   "execution_count": null,
   "id": "6",
   "metadata": {},
   "outputs": [],
   "source": [
    "import sys\n",
    "\n",
    "TARGET_REPO = \"AbhinavSivanandhan/reports\"\n",
    "print(\"=== GITHUB UPLOAD STAGE STARTED ===\", file=sys.stderr)\n",
    "if GITHUB_TOKEN:\n",
    "    print(\"Uploading results to GitHub...\", file=sys.stderr)\n",
    "    print(\"Uploading to GitHub repo:\", TARGET_REPO, file=sys.stderr)\n",
    "    print(\"Using commit message: Automated report from Cloud Run\", file=sys.stderr)\n",
    "    print(\"GitHub token length:\", len(GITHUB_TOKEN), file=sys.stderr)\n",
    "\n",
    "    try:\n",
    "        result = upload_reports_to_github(\n",
    "            repo=TARGET_REPO,\n",
    "            token=GITHUB_TOKEN,\n",
    "            branch='main',\n",
    "            commit_message='Automated report from Cloud Run'\n",
    "        )\n",
    "\n",
    "        if result:\n",
    "            print(\"Upload result (truncated):\", str(result)[:300], file=sys.stderr)\n",
    "        else:\n",
    "            print(\"Notebook executed but upload failed. No result returned.\", file=sys.stderr)\n",
    "    except Exception as e:\n",
    "        print(\"Exception during GitHub upload:\", e, file=sys.stderr)\n",
    "else:\n",
    "    print(\"No GitHub token available - skipping upload\", file=sys.stderr)\n",
    "\n",
    "print(\"=== NOTEBOOK COMPLETED ===\", file=sys.stderr)\n"
   ]
  }
 ],
 "metadata": {
  "kernelspec": {
   "display_name": "Python 3",
   "language": "python",
   "name": "python3"
  },
  "language_info": {
   "codemirror_mode": {
    "name": "ipython",
    "version": 3
   },
   "file_extension": ".py",
   "name": "python",
   "nbconvert_exporter": "python",
   "pygments_lexer": "ipython3",
   "version": "3.9.0"
  }
 },
 "nbformat": 4,
 "nbformat_minor": 5
}
